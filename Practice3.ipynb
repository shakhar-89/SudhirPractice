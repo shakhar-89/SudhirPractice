{
 "cells": [
  {
   "cell_type": "code",
   "execution_count": 1,
   "metadata": {},
   "outputs": [
    {
     "name": "stdout",
     "output_type": "stream",
     "text": [
      "[{1, 2}, {1, 2, 3}, {2}, {0}]\n"
     ]
    }
   ],
   "source": [
    "# Python – Convert List of lists to list of Sets\n",
    "# Input : [[1, 2, 1], [1, 2, 3], [2, 2, 2, 2], [0]]\n",
    "# Output : [{1, 2}, {1, 2, 3}, {2}, {0}]\n",
    "\n",
    "# Input : [[4, 4], [5, 5, 5], [1, 2, 3]]\n",
    "# Output : [{4}, {5}, {1, 2, 3}]\n",
    "\n",
    "inp=[[1, 2, 1], [1, 2, 3], [2, 2, 2, 2], [0]]\n",
    "\n",
    "res = [set(x) for x in inp]\n",
    "\n",
    "print(res)\n"
   ]
  },
  {
   "cell_type": "code",
   "execution_count": 23,
   "metadata": {},
   "outputs": [
    {
     "name": "stdout",
     "output_type": "stream",
     "text": [
      "(10, 20, 25, 50, 70)\n",
      "(10, 20, 25, 50, 90)\n",
      "(10, 20, 25, 70, 90)\n",
      "(10, 20, 50, 70, 90)\n",
      "(10, 25, 50, 70, 90)\n",
      "(20, 25, 50, 70, 90)\n"
     ]
    }
   ],
   "source": [
    "# # Python program to get all subsets having sum x\n",
    "\n",
    "# Input: arr = [2, 4, 5, 9], x = 15\n",
    "\n",
    "# Output: [2, 4, 9]\n",
    "\n",
    "# 15 can be obtained by adding 2, 4 and 9 from the given list.\n",
    "\n",
    "# Input  : arr = [10, 20, 25, 50, 70, 90], x = 80\n",
    "\n",
    "# Output : [10, 70]\n",
    "\n",
    "#          [10, 20, 50]\n",
    "\n",
    "# 80 can be obtained by adding 10 and 70 or by adding 10, 20 and 50 from the given list.\n",
    "\n",
    "from itertools import combinations\n",
    "\n",
    "arr = [2, 4, 5, 9]\n",
    "x = 15\n",
    "\n",
    "\n",
    "arr = [10, 20, 25, 50, 70, 90]\n",
    "x = 80\n",
    "\n",
    "res=[]\n",
    "for i in range(len(arr)+1):\n",
    "    for subset in combinations(arr,i):\n",
    "        if sum(subset) == x:\n",
    "            res.append(list(subset))\n",
    "\n",
    "print(res)\n",
    "\n",
    "# for x in combinations(arr,5):\n",
    "#     print(x)\n",
    "\n",
    "## combination takes two argument , list and length/size of combination \n",
    "## ex : 1 as second argument will create combination that will contain 1 element each \n",
    "## ex : 2 as second argument will create all the combinations selecting 2 elements from list  "
   ]
  },
  {
   "cell_type": "code",
   "execution_count": 24,
   "metadata": {},
   "outputs": [
    {
     "name": "stdout",
     "output_type": "stream",
     "text": [
      "[10, 70]\n",
      "[10, 20, 50]\n"
     ]
    }
   ],
   "source": [
    "# Efficient Python code to\n",
    "# print all subsets whose sum\n",
    "# is equal to a given value\n",
    "from itertools import combinations\n",
    "  \n",
    "  \n",
    "def subsetSum(li, comb, sums):\n",
    "    # Iterating through all subsets of\n",
    "    # list li from length 0 to length of li:\n",
    "    for i in range(len(li)+1):\n",
    "        for subset in combinations(li, i):\n",
    "              \n",
    "            # Storing all the subsets in list comb:\n",
    "            comb.append(list(subset))\n",
    "              \n",
    "            # Storing the subset sums in list sums:\n",
    "            sums.append(sum(subset))\n",
    "  \n",
    "  \n",
    "def calcSubsets(n, arr, x):\n",
    "    \n",
    "    # Dividing the list arr into two lists\n",
    "    # arr1 and arr2 of about equal sizes\n",
    "    # by slicing list arr about index n//2:\n",
    "    arr1, arr2 = arr[:n//2], arr[n//2:]\n",
    "      \n",
    "    # Creating empty lists comb1 and sums1\n",
    "    # to run the subsetSum function and\n",
    "    # store subsets of arr1 in comb1\n",
    "    # and the subset sums in sums1:\n",
    "    comb1, sums1 = [], []\n",
    "    subsetSum(arr1, comb1, sums1)\n",
    "      \n",
    "    # Creating empty lists comb2 and sums2\n",
    "    # to run the subsetSum function and\n",
    "    # store subsets of arr2 in comb2\n",
    "    # and the subset sums in sums2:\n",
    "    comb2, sums2 = [], []\n",
    "    subsetSum(arr2, comb2, sums2)\n",
    "      \n",
    "    # Iterating i through the indices of sums1:\n",
    "    for i in range(len(sums1)):\n",
    "          \n",
    "        # Iterating j through the indices of sums2:\n",
    "        for j in range(len(sums2)):\n",
    "              \n",
    "            # If two elements (one from sums1\n",
    "            # and one from sums2) add up to x,\n",
    "            # the combined list of elements from\n",
    "            # corresponding subsets at index i in comb1\n",
    "            # and j in comb2 gives us the required answer:\n",
    "            if sums1[i] + sums2[j] == x:\n",
    "                print(comb1[i] + comb2[j])\n",
    "  \n",
    "  \n",
    "# Driver Code:\n",
    "n = 6\n",
    "arr = [10, 20, 25, 50, 70, 90]\n",
    "x = 80\n",
    "calcSubsets(n, arr, x)"
   ]
  }
 ],
 "metadata": {
  "kernelspec": {
   "display_name": "Python 3.10.0 64-bit",
   "language": "python",
   "name": "python3"
  },
  "language_info": {
   "codemirror_mode": {
    "name": "ipython",
    "version": 3
   },
   "file_extension": ".py",
   "mimetype": "text/x-python",
   "name": "python",
   "nbconvert_exporter": "python",
   "pygments_lexer": "ipython3",
   "version": "3.10.0"
  },
  "orig_nbformat": 4,
  "vscode": {
   "interpreter": {
    "hash": "aee8b7b246df8f9039afb4144a1f6fd8d2ca17a180786b69acc140d282b71a49"
   }
  }
 },
 "nbformat": 4,
 "nbformat_minor": 2
}
