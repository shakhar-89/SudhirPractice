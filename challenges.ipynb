{
 "cells": [
  {
   "cell_type": "code",
   "execution_count": 7,
   "metadata": {},
   "outputs": [
    {
     "data": {
      "text/plain": [
       "2"
      ]
     },
     "execution_count": 7,
     "metadata": {},
     "output_type": "execute_result"
    }
   ],
   "source": [
    "import math as m\n",
    "m.floor(m.sqrt(5))"
   ]
  },
  {
   "cell_type": "code",
   "execution_count": 37,
   "metadata": {},
   "outputs": [],
   "source": [
    "import math as m\n",
    "def isprime(n):\n",
    "    ul=m.floor(m.sqrt(n))\n",
    "    if (n==1):\n",
    "        return 0\n",
    "    if (n==2 or n==3):\n",
    "        return 1\n",
    "    for i in range(2,ul+1):\n",
    "        #print(i)\n",
    "        if( n%i==0 ):\n",
    "            return 0\n",
    "            print('yes')\n",
    "    return 1"
   ]
  },
  {
   "cell_type": "code",
   "execution_count": 49,
   "metadata": {},
   "outputs": [
    {
     "data": {
      "text/plain": [
       "1"
      ]
     },
     "execution_count": 49,
     "metadata": {},
     "output_type": "execute_result"
    }
   ],
   "source": [
    "isprime(43)"
   ]
  },
  {
   "cell_type": "code",
   "execution_count": 118,
   "metadata": {},
   "outputs": [],
   "source": [
    "def get_prime_factors(n):\n",
    "    res=[]\n",
    "    d=2\n",
    "    while(d<=n):\n",
    "        if(n%d==0):\n",
    "            res.append(d)\n",
    "            n=n//d\n",
    "        else:\n",
    "            d=d+1\n",
    "    return res"
   ]
  },
  {
   "cell_type": "code",
   "execution_count": 122,
   "metadata": {},
   "outputs": [
    {
     "data": {
      "text/plain": [
       "[2, 2, 2, 3, 5]"
      ]
     },
     "execution_count": 122,
     "metadata": {},
     "output_type": "execute_result"
    }
   ],
   "source": [
    "get_prime_factors(120)"
   ]
  },
  {
   "cell_type": "code",
   "execution_count": 128,
   "metadata": {},
   "outputs": [],
   "source": [
    "def ispalindrome(s):\n",
    "    s=''.join(e for e in s if e.isalnum())\n",
    "    rs=s[::-1]\n",
    "    return (rs==s)"
   ]
  },
  {
   "cell_type": "code",
   "execution_count": 131,
   "metadata": {},
   "outputs": [
    {
     "data": {
      "text/plain": [
       "False"
      ]
     },
     "execution_count": 131,
     "metadata": {},
     "output_type": "execute_result"
    }
   ],
   "source": [
    "ispalindrome('xxx''ab')"
   ]
  },
  {
   "cell_type": "code",
   "execution_count": 133,
   "metadata": {},
   "outputs": [],
   "source": [
    "def sort_words(s):\n",
    "    l = s.split()\n",
    "    l.sort()\n",
    "    return l"
   ]
  },
  {
   "cell_type": "code",
   "execution_count": 135,
   "metadata": {},
   "outputs": [
    {
     "data": {
      "text/plain": [
       "['hello', 'world']"
      ]
     },
     "execution_count": 135,
     "metadata": {},
     "output_type": "execute_result"
    }
   ],
   "source": [
    "sort_words('world hello')"
   ]
  },
  {
   "cell_type": "code",
   "execution_count": 136,
   "metadata": {},
   "outputs": [],
   "source": [
    "def all_indices(l,n):\n",
    "    indeces=list()\n",
    "    for i in range(len(l)):\n",
    "        if(l[i]==n):\n",
    "            indeces.append([i])\n",
    "        elif (isinstance(l[i],list)):\n",
    "            for index in all_indices(l[i],n):\n",
    "                indeces.append([i]+index)\n",
    "    return indeces"
   ]
  },
  {
   "cell_type": "code",
   "execution_count": 140,
   "metadata": {},
   "outputs": [
    {
     "data": {
      "text/plain": [
       "[[2, 0, 0], [2, 0, 1], [2, 0, 2], [2, 1, 1], [3, 0]]"
      ]
     },
     "execution_count": 140,
     "metadata": {},
     "output_type": "execute_result"
    }
   ],
   "source": [
    "all_indices([0,1,[[2,2,2],[1,2,3]],[2,3,4],5],2)"
   ]
  },
  {
   "cell_type": "code",
   "execution_count": 156,
   "metadata": {},
   "outputs": [],
   "source": [
    "import random\n",
    "import time as t\n",
    "def waiting_game():\n",
    "    x = random.randint(2,4)\n",
    "    print(f'\\nYour target is {x} seconds.')\n",
    "    print('--Press enter to begin!--')\n",
    "    input()\n",
    "    #input('--Press enter to begin!--')\n",
    "    #t1 = t.perf_counter()\n",
    "    t1=t.time()\n",
    "    #input(f'\\nPress enter again after {x} seconds.')\n",
    "    print(f'\\nPress enter again after {x} seconds.')\n",
    "    input()\n",
    "    #t2 = t.perf_counter()\n",
    "    t2=t.time()\n",
    "    elapsed = t2-t1\n",
    "    print(f'\\n elapsed : {elapsed}')"
   ]
  },
  {
   "cell_type": "code",
   "execution_count": 181,
   "metadata": {},
   "outputs": [],
   "source": [
    "import pickle\n",
    "def save_dict(d,file_path):\n",
    "    with open(file_path,'wb') as file:\n",
    "        pickle.dump(d,file)\n",
    "\n",
    "def get_dict(file_path):\n",
    "    with open(file_path,'rb') as file:\n",
    "        return pickle.load(file)"
   ]
  },
  {
   "cell_type": "code",
   "execution_count": 183,
   "metadata": {},
   "outputs": [
    {
     "name": "stdout",
     "output_type": "stream",
     "text": [
      "{'name': 'Sudhir'}\n"
     ]
    }
   ],
   "source": [
    "# !pwd\n",
    "# ! touch x\n",
    "# ! ls\n",
    "d=dict({\"name\":\"Sudhir\"})\n",
    "save_dict(d,'test.pickle')\n",
    "recovered = get_dict('test.pickle')\n",
    "print(recovered)\n"
   ]
  }
 ],
 "metadata": {
  "interpreter": {
   "hash": "aee8b7b246df8f9039afb4144a1f6fd8d2ca17a180786b69acc140d282b71a49"
  },
  "kernelspec": {
   "display_name": "Python 3.10.0 64-bit",
   "language": "python",
   "name": "python3"
  },
  "language_info": {
   "codemirror_mode": {
    "name": "ipython",
    "version": 3
   },
   "file_extension": ".py",
   "mimetype": "text/x-python",
   "name": "python",
   "nbconvert_exporter": "python",
   "pygments_lexer": "ipython3",
   "version": "3.10.0"
  },
  "orig_nbformat": 4
 },
 "nbformat": 4,
 "nbformat_minor": 2
}
