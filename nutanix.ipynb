{
 "cells": [
  {
   "cell_type": "code",
   "execution_count": 4,
   "metadata": {},
   "outputs": [
    {
     "name": "stdout",
     "output_type": "stream",
     "text": [
      "30\n"
     ]
    }
   ],
   "source": [
    "# Question 1\n",
    "\n",
    "# You are given an array(frequency[]) of integers of length 26 as \n",
    "# input where each element in the array corresponds to the frequency of a character in the english alphabet available to you.\n",
    "# For example frequency[0] represents frequency of character 'a',\n",
    "# frequency[1] represents frequency of character 'b' and so on. \n",
    "# What is the length of the longest string you can make from these characters such \n",
    "# that no 2 consecutive character in the string are the same.\n",
    "\n",
    "# Example:\n",
    "\n",
    "# Input : \n",
    "# [0, 0, 1, 0, 0, 1, 0, 0, 0, 0, 0, 0, 0, 0, 0, 0, 0, 0, 0, 0, 1, 0, 0, 4, 0, 0]\n",
    "\n",
    "\n",
    "# Output:\n",
    "# 7 ( 3 + 4 with some condition)\n",
    "\n",
    "\n",
    "# count_len([1, 1, 1, 1, 1, 1, 1, 1, 1, 1, 1, 1, 1, 1, 1, 1, 1, 1, 1, 1, 26, 1, 1, 1, 1, 1])\n",
    "# 51 sum of 1 + 26 \n",
    "\n",
    "# count_len([1, 1, 1, 1, 1,26])\n",
    "# 11  : sum (1) + (sum (1) + 1)\n",
    "\n",
    "# count_len([2, 2, 2, 2, 2,26])\n",
    "# 21  : sum (2) + (sum (2) + 1) \n",
    "\n",
    "# count_len([3, 3, 3, 3, 3,26])\n",
    "# 31  : sum (3) + (sum (3) + 1) \n",
    "\n",
    "# count_len([3, 3, 3, 3, 3,6])\n",
    "# 21  : sum (3) + 6\n",
    "\n",
    "# count_len([3, 3, 3, 3, 3,3])\n",
    "# 21  : sum (3) + 6\n",
    "\n",
    "\n",
    "# aaabbbcccdddeeefff\n",
    "\n",
    "# count_len([6,7,8,9,35])\n",
    "# 21\n",
    "\n",
    "l1 = [0, 0, 1, 0, 0, 1, 0, 0, 0, 0, 0, 0, 0, 0, 0, 0, 0, 0, 0, 0, 1, 0, 0, 4, 0, 0]\n",
    "l1 = [3, 3, 3, 3, 3,15]\n",
    "\n",
    "max1 = max(l1)\n",
    "\n",
    "sum1 = sum(l1) \n",
    "\n",
    "sum2 = sum1 - max1\n",
    "\n",
    "if sum2 >= max1:\n",
    "    print(sum1) # sum1 + max1\n",
    "\n",
    "else:\n",
    "    print(sum2 + sum2 + 1)\n",
    "\n",
    "\n",
    "\n",
    "\n",
    "\n",
    "\n",
    "# abbcccddddeeeeeffffff\n",
    "# abcdefbcdefcdefdefef 6 + 5 + 4 +  3 + 2 + 1 = \n",
    "# if \n",
    "\n",
    "# aaabbbcccdddeeeffffff\n",
    "# abcdefabcdefabcdef 18 + 3  \n",
    "\n",
    "# count_len([1, 1, 1, 1, 1, 1, 1, 1, 1, 1, 1, 1, 1, 1, 1, 1, 1, 1, 1, 1, 1, 1, 1, 1, 1, 1])\n",
    "# 26 sum of all 1  \n",
    "\n",
    "\n",
    "#  if all elements =1 then simply sum (all the elements)\n",
    "#  if number of 1's = number of >1's - 1 => sum of 1 + > 1's\n",
    "\n",
    "\n",
    "# maximum in the list + \n",
    "\n",
    "\n",
    "\n",
    "\n"
   ]
  }
 ],
 "metadata": {
  "kernelspec": {
   "display_name": "Python 3.10.0 64-bit",
   "language": "python",
   "name": "python3"
  },
  "language_info": {
   "codemirror_mode": {
    "name": "ipython",
    "version": 3
   },
   "file_extension": ".py",
   "mimetype": "text/x-python",
   "name": "python",
   "nbconvert_exporter": "python",
   "pygments_lexer": "ipython3",
   "version": "3.10.0"
  },
  "orig_nbformat": 4,
  "vscode": {
   "interpreter": {
    "hash": "aee8b7b246df8f9039afb4144a1f6fd8d2ca17a180786b69acc140d282b71a49"
   }
  }
 },
 "nbformat": 4,
 "nbformat_minor": 2
}
